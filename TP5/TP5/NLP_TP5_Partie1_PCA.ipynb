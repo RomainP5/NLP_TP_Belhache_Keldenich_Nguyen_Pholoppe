{
  "nbformat": 4,
  "nbformat_minor": 0,
  "metadata": {
    "colab": {
      "name": "NLP_TP5_Partie1_PCA",
      "provenance": [],
      "collapsed_sections": []
    },
    "kernelspec": {
      "name": "python3",
      "display_name": "Python 3"
    }
  },
  "cells": [
    {
      "cell_type": "markdown",
      "metadata": {
        "id": "i9Uh6S3-5o5e"
      },
      "source": [
        "# **TD5**"
      ]
    },
    {
      "cell_type": "markdown",
      "metadata": {
        "id": "4Xg3ScWr5qks"
      },
      "source": [
        "# **Partie 1: PCA**"
      ]
    },
    {
      "cell_type": "code",
      "metadata": {
        "id": "HFkD6tNDYqWQ",
        "colab": {
          "base_uri": "https://localhost:8080/"
        },
        "outputId": "f796094b-fb05-4460-c07e-734dd4c88cf7"
      },
      "source": [
        "#On prend un dataset de mail (spam or not)\n",
        "from google.colab import drive\n",
        "drive.mount('/content/drive')"
      ],
      "execution_count": null,
      "outputs": [
        {
          "output_type": "stream",
          "text": [
            "Drive already mounted at /content/drive; to attempt to forcibly remount, call drive.mount(\"/content/drive\", force_remount=True).\n"
          ],
          "name": "stdout"
        }
      ]
    },
    {
      "cell_type": "code",
      "metadata": {
        "id": "Z6L_AGanZDgV",
        "colab": {
          "base_uri": "https://localhost:8080/",
          "height": 173
        },
        "outputId": "abaf9efa-2cc4-4bbf-af89-fe0c9a1f58d0"
      },
      "source": [
        "import pandas as pd\n",
        "df1 = pd.read_csv('/content/drive/My Drive/DataSet/SMS/SMS_train.csv.xls', sep=',', encoding='latin-1', usecols=['Message_body','Label'])\n",
        "df2 = pd.read_csv('/content/drive/My Drive/DataSet/SMS/SMS_test.csv.xls', sep=',', encoding='latin-1', usecols=['Message_body','Label'])\n",
        "df = pd.concat([df1, df2])\n",
        "df.reset_index(drop=True, inplace=True)\n",
        "df.dropna()\n",
        "df.reset_index(drop=True, inplace=True)\n",
        "df.head(4)"
      ],
      "execution_count": null,
      "outputs": [
        {
          "output_type": "execute_result",
          "data": {
            "text/html": [
              "<div>\n",
              "<style scoped>\n",
              "    .dataframe tbody tr th:only-of-type {\n",
              "        vertical-align: middle;\n",
              "    }\n",
              "\n",
              "    .dataframe tbody tr th {\n",
              "        vertical-align: top;\n",
              "    }\n",
              "\n",
              "    .dataframe thead th {\n",
              "        text-align: right;\n",
              "    }\n",
              "</style>\n",
              "<table border=\"1\" class=\"dataframe\">\n",
              "  <thead>\n",
              "    <tr style=\"text-align: right;\">\n",
              "      <th></th>\n",
              "      <th>Message_body</th>\n",
              "      <th>Label</th>\n",
              "    </tr>\n",
              "  </thead>\n",
              "  <tbody>\n",
              "    <tr>\n",
              "      <th>0</th>\n",
              "      <td>Rofl. Its true to its name</td>\n",
              "      <td>Non-Spam</td>\n",
              "    </tr>\n",
              "    <tr>\n",
              "      <th>1</th>\n",
              "      <td>The guy did some bitching but I acted like i'd...</td>\n",
              "      <td>Non-Spam</td>\n",
              "    </tr>\n",
              "    <tr>\n",
              "      <th>2</th>\n",
              "      <td>Pity, * was in mood for that. So...any other s...</td>\n",
              "      <td>Non-Spam</td>\n",
              "    </tr>\n",
              "    <tr>\n",
              "      <th>3</th>\n",
              "      <td>Will ü b going to esplanade fr home?</td>\n",
              "      <td>Non-Spam</td>\n",
              "    </tr>\n",
              "  </tbody>\n",
              "</table>\n",
              "</div>"
            ],
            "text/plain": [
              "                                        Message_body     Label\n",
              "0                         Rofl. Its true to its name  Non-Spam\n",
              "1  The guy did some bitching but I acted like i'd...  Non-Spam\n",
              "2  Pity, * was in mood for that. So...any other s...  Non-Spam\n",
              "3               Will ü b going to esplanade fr home?  Non-Spam"
            ]
          },
          "metadata": {
            "tags": []
          },
          "execution_count": 2
        }
      ]
    },
    {
      "cell_type": "code",
      "metadata": {
        "id": "mx5ROa9baE-8",
        "colab": {
          "base_uri": "https://localhost:8080/"
        },
        "outputId": "8bb17d61-5bfc-4242-80d0-dfd6e5e48b03"
      },
      "source": [
        "import nltk\n",
        "from nltk.corpus import stopwords\n",
        "from nltk.tokenize import word_tokenize\n",
        "nltk.download('punkt')\n",
        "nltk.download('stopwords')\n",
        "nltk.download('words')\n",
        "from nltk.stem import PorterStemmer\n",
        "from nltk.stem import WordNetLemmatizer\n",
        "nltk.download('wordnet')\n",
        "import string\n",
        "import re\n",
        "from sklearn.model_selection import cross_validate\n",
        "from nltk.corpus import words\n",
        " \n",
        "stopwords = set(stopwords.words('english')) #on met set les stopwords en anglais\n",
        "dictionary = set(words.words())\n",
        "rmv_punct = str.maketrans('','',string.punctuation) #setting of the punctuation removal\n",
        "lemmatizer = WordNetLemmatizer() #définition du lemmatizer\n",
        " \n",
        "# Function : to preprocess words\n",
        "# Parameter : textParam, text ; lem1Stem2, int, if =2 then we apply a stemmatization else a lemmatisation\n",
        "# Returns : list of the most meaningful words (preprocessed)\n",
        "def preProcessing(textParam):\n",
        "  result = []\n",
        "  items = textParam\n",
        "  if (type(items)!=float):\n",
        "    items = textParam.lower() #transform to lower case\n",
        "    items = items.translate(rmv_punct) #remove punctuation\n",
        "    items = re.sub(r'\\d+','',items) #remove numbers\n",
        "    tokens = word_tokenize(items) #tokenize words\n",
        "    tok = [i for i in tokens if not i in stopwords] # list of the words in the text without stop words\n",
        "    for w in tok:\n",
        "      result.append(lemmatizer.lemmatize(w)) #lemmatisation\n",
        "    i=0\n",
        "    while i < len(result):\n",
        "      if result[i] not in dictionary:\n",
        "        result.remove(result[i])\n",
        "      else:\n",
        "        i=i+1\n",
        "    return (result)\n",
        " "
      ],
      "execution_count": null,
      "outputs": [
        {
          "output_type": "stream",
          "text": [
            "[nltk_data] Downloading package punkt to /root/nltk_data...\n",
            "[nltk_data]   Package punkt is already up-to-date!\n",
            "[nltk_data] Downloading package stopwords to /root/nltk_data...\n",
            "[nltk_data]   Package stopwords is already up-to-date!\n",
            "[nltk_data] Downloading package words to /root/nltk_data...\n",
            "[nltk_data]   Package words is already up-to-date!\n",
            "[nltk_data] Downloading package wordnet to /root/nltk_data...\n",
            "[nltk_data]   Package wordnet is already up-to-date!\n"
          ],
          "name": "stdout"
        }
      ]
    },
    {
      "cell_type": "code",
      "metadata": {
        "id": "XpzDYE4ab9Qp"
      },
      "source": [
        "mail = [] #liste pour le corps des mails\n",
        "mailLabel = [] #liste pour les spam ou non\n",
        "t = len(df['Message_body'])\n",
        "for i in range(1,t):\n",
        "    #On lemmatize seulement les mail, ce qui nous donne des listes de tokens\n",
        "    tokenList = preProcessing(df['Message_body'][i])\n",
        "    \n",
        "    mail.append(' '.join(tokenList)) #on transforme chaque listes de tokens en phrases\n",
        "    if df['Label'][i] == \"Non-Spam\":\n",
        "      mailLabel.append(0)\n",
        "    else:\n",
        "      mailLabel.append(1)"
      ],
      "execution_count": null,
      "outputs": []
    },
    {
      "cell_type": "code",
      "metadata": {
        "id": "IOYlGeF8cQql",
        "colab": {
          "base_uri": "https://localhost:8080/"
        },
        "outputId": "06cb888e-b982-42e2-8c75-17cb57c6fdd2"
      },
      "source": [
        "len(mail) == len(mailLabel)"
      ],
      "execution_count": null,
      "outputs": [
        {
          "output_type": "execute_result",
          "data": {
            "text/plain": [
              "True"
            ]
          },
          "metadata": {
            "tags": []
          },
          "execution_count": 5
        }
      ]
    },
    {
      "cell_type": "code",
      "metadata": {
        "id": "HvJcoP6jcViV",
        "colab": {
          "base_uri": "https://localhost:8080/"
        },
        "outputId": "7666369f-19cf-4d68-a8af-350b97d710a5"
      },
      "source": [
        "print(mail[0], \"---\", mailLabel[0])"
      ],
      "execution_count": null,
      "outputs": [
        {
          "output_type": "stream",
          "text": [
            "guy like id interested something else next week gave u free --- 0\n"
          ],
          "name": "stdout"
        }
      ]
    },
    {
      "cell_type": "code",
      "metadata": {
        "id": "iclYcexzcYUF",
        "colab": {
          "base_uri": "https://localhost:8080/",
          "height": 295
        },
        "outputId": "21d7161f-1e68-4b04-bfa3-d645df5b3891"
      },
      "source": [
        "# librairies\n",
        "import numpy as np\n",
        "import matplotlib.pyplot as plt\n",
        "\n",
        "count=0\n",
        "for i in range(len(mailLabel)):\n",
        "    if mailLabel[i] == 0:\n",
        "        count+=1\n",
        "\n",
        " \n",
        "# Fake dataset\n",
        "height = [count,len(mailLabel)-count]\n",
        "bars = ('Non-Spam', 'Spam')\n",
        "y_pos = np.arange(len(bars))\n",
        " \n",
        "# Create bars and choose color\n",
        "plt.bar(y_pos, height, color = ('blue','red'))\n",
        " \n",
        "# Add title and axis names\n",
        "plt.title('My title')\n",
        "plt.xlabel('nombre')\n",
        "plt.ylabel('Urgence')\n",
        " \n",
        "# Limits for the Y axis\n",
        "#plt.ylim(0,60)\n",
        "# \n",
        "# Create names\n",
        "plt.xticks(y_pos, bars)\n",
        " \n",
        "# Show graphic\n",
        "plt.show()"
      ],
      "execution_count": null,
      "outputs": [
        {
          "output_type": "display_data",
          "data": {
            "image/png": "[encoded data removed]",
            "text/plain": [
              "<Figure size 432x288 with 1 Axes>"
            ]
          },
          "metadata": {
            "tags": [],
            "needs_background": "light"
          }
        }
      ]
    },
    {
      "cell_type": "code",
      "metadata": {
        "id": "KvDNjg2Kcrl_",
        "colab": {
          "base_uri": "https://localhost:8080/"
        },
        "outputId": "e818b011-4598-474e-c539-66562d78064a"
      },
      "source": [
        "from sklearn.feature_extraction.text import CountVectorizer\n",
        "vectorizer = CountVectorizer()\n",
        "wordVectorized = vectorizer.fit_transform(mail)\n",
        "\n",
        "print(vectorizer.get_feature_names())\n",
        "print(wordVectorized.toarray())"
      ],
      "execution_count": null,
      "outputs": [
        {
          "output_type": "stream",
          "text": [
            "['aa', 'abdomen', 'able', 'absolutely', 'abstract', 'accent', 'access', 'accident', 'accidentally', 'account', 'activity', 'actually', 'ad', 'add', 'added', 'address', 'admirer', 'admission', 'adore', 'adult', 'adventure', 'advice', 'advise', 'advisor', 'ae', 'afraid', 'aft', 'afternoon', 'afterwards', 'age', 'ago', 'ah', 'aha', 'airport', 'al', 'album', 'alive', 'almost', 'alone', 'along', 'already', 'alright', 'also', 'always', 'amazing', 'amount', 'amt', 'amused', 'amy', 'an', 'angry', 'animation', 'announcement', 'another', 'answer', 'antibiotic', 'anybody', 'anyone', 'anything', 'anyway', 'apparently', 'apply', 'arcade', 'area', 'arent', 'argue', 'argument', 'arm', 'around', 'arrange', 'arsenal', 'art', 'as', 'ash', 'ask', 'asleep', 'assessment', 'assistance', 'assume', 'astrology', 'astronomer', 'ate', 'attached', 'attempt', 'attend', 'attention', 'auction', 'audition', 'august', 'available', 'ave', 'await', 'awake', 'award', 'away', 'awesome', 'awkward', 'babe', 'baby', 'back', 'backwards', 'bad', 'bag', 'bailiff', 'ball', 'baller', 'bank', 'barely', 'barrel', 'barring', 'basic', 'basically', 'bath', 'bathe', 'bathing', 'battle', 'beating', 'beautiful', 'beauty', 'become', 'bed', 'beer', 'behind', 'believe', 'bell', 'belong', 'beloved', 'belt', 'benefit', 'benny', 'best', 'better', 'bid', 'big', 'biggest', 'bill', 'bird', 'birth', 'birthday', 'bit', 'black', 'blackberry', 'bless', 'blessing', 'blind', 'blonde', 'bloody', 'blow', 'blowing', 'bold', 'bomb', 'bone', 'bong', 'bonus', 'boob', 'book', 'booked', 'booking', 'boost', 'booty', 'boring', 'born', 'boston', 'bother', 'bottle', 'bottom', 'bought', 'boundary', 'bout', 'box', 'boy', 'brain', 'brand', 'bread', 'break', 'breathing', 'bright', 'bring', 'broad', 'broke', 'brolly', 'broth', 'brother', 'brought', 'buck', 'bud', 'budget', 'building', 'built', 'bulb', 'bun', 'burn', 'bus', 'business', 'busy', 'buy', 'cake', 'calculation', 'call', 'caller', 'calling', 'calm', 'came', 'camera', 'campus', 'canal', 'canary', 'cancel', 'cancer', 'cant', 'canteen', 'capacity', 'capital', 'captain', 'car', 'card', 'care', 'career', 'caroline', 'carry', 'cartoon', 'cash', 'cat', 'catch', 'cause', 'causing', 'ceiling', 'celebrate', 'celebration', 'cell', 'cha', 'chance', 'change', 'channel', 'chapel', 'chapter', 'character', 'charge', 'charity', 'chart', 'chase', 'chastity', 'chat', 'chatting', 'cheap', 'cheat', 'cheating', 'check', 'checked', 'checkmate', 'cheer', 'cherish', 'chess', 'chest', 'chic', 'chick', 'chicken', 'chief', 'child', 'childish', 'chill', 'chitchat', 'choose', 'choosing', 'chop', 'chosen', 'chuck', 'church', 'cinema', 'citizen', 'claim', 'clarify', 'class', 'clean', 'cleaning', 'clearer', 'clearly', 'click', 'close', 'clover', 'club', 'coast', 'code', 'coincidence', 'colin', 'colleague', 'collect', 'collection', 'college', 'colour', 'come', 'comedy', 'coming', 'command', 'common', 'company', 'compensation', 'competition', 'complacent', 'complete', 'completely', 'compliment', 'complimentary', 'computer', 'condition', 'confirm', 'confirmed', 'congratulation', 'connection', 'considering', 'console', 'constantly', 'contact', 'content', 'contented', 'continued', 'contract', 'control', 'convey', 'cool', 'cop', 'copy', 'correct', 'correctly', 'cost', 'costa', 'costume', 'couch', 'could', 'count', 'country', 'couple', 'course', 'court', 'cover', 'crack', 'cramp', 'crash', 'crave', 'crazy', 'cream', 'credit', 'creep', 'crisis', 'cross', 'crossing', 'cruel', 'cruise', 'cum', 'cup', 'current', 'currently', 'custom', 'customer', 'cut', 'da', 'dad', 'daddy', 'dado', 'damn', 'dangerous', 'darling', 'date', 'dating', 'day', 'de', 'dead', 'deal', 'dealing', 'dear', 'decade', 'decent', 'decide', 'decided', 'declare', 'deep', 'deer', 'defer', 'definitely', 'delay', 'delivery', 'demand', 'den', 'dental', 'dentist', 'desert', 'desire', 'desk', 'detail', 'device', 'devil', 'devouring', 'dey', 'dhoni', 'diamond', 'diaper', 'didnt', 'die', 'diet', 'difference', 'different', 'difficult', 'difficulty', 'digital', 'din', 'ding', 'dining', 'dinner', 'dint', 'dip', 'direct', 'directly', 'dirty', 'dis', 'disagreeable', 'disappointment', 'disaster', 'discount', 'discus', 'distance', 'disturbing', 'divorce', 'doc', 'dock', 'doctor', 'doesnt', 'dog', 'doll', 'dollar', 'donate', 'done', 'dont', 'door', 'dormitory', 'double', 'doubt', 'dough', 'draw', 'dream', 'dress', 'drink', 'drinking', 'drive', 'driving', 'drop', 'drug', 'drunken', 'dude', 'due', 'dull', 'dumb', 'dump', 'dun', 'early', 'earn', 'east', 'easy', 'eat', 'eaten', 'eerie', 'effect', 'egg', 'eh', 'eight', 'either', 'elaine', 'election', 'eleven', 'else', 'em', 'end', 'ending', 'endless', 'energy', 'engagement', 'enjoy', 'enough', 'enter', 'entry', 'epsilon', 'er', 'erotic', 'error', 'escape', 'especially', 'esplanade', 'eta', 'eve', 'even', 'evening', 'ever', 'every', 'everybody', 'everyone', 'everything', 'ex', 'exact', 'exactly', 'exam', 'excellent', 'except', 'exciting', 'excuse', 'executive', 'exhaust', 'expensive', 'explicit', 'exposed', 'express', 'extra', 'eye', 'fa', 'face', 'facility', 'failing', 'failure', 'fair', 'fall', 'family', 'fancy', 'fantasy', 'far', 'fast', 'father', 'fault', 'favor', 'favorite', 'fee', 'feed', 'feel', 'feeling', 'fell', 'female', 'fever', 'fifteen', 'fight', 'fighting', 'figure', 'file', 'fill', 'filling', 'film', 'final', 'finally', 'finance', 'find', 'fine', 'finger', 'finish', 'finished', 'fire', 'fired', 'first', 'fit', 'fix', 'fixed', 'fizz', 'flag', 'flaky', 'flash', 'flat', 'flew', 'flight', 'flip', 'flirt', 'flirting', 'fly', 'fold', 'following', 'food', 'fool', 'foot', 'foregate', 'forever', 'forget', 'forgot', 'forgotten', 'forward', 'found', 'fowler', 'freak', 'free', 'fret', 'friend', 'friendship', 'front', 'full', 'fun', 'fund', 'funeral', 'funky', 'future', 'gain', 'gal', 'game', 'gap', 'garage', 'garbage', 'garden', 'gas', 'gastroenteritis', 'gave', 'gay', 'ge', 'gee', 'gene', 'generally', 'gent', 'gentle', 'gently', 'genuine', 'genus', 'get', 'getting', 'gift', 'girl', 'gist', 'give', 'giving', 'glad', 'go', 'goal', 'god', 'going', 'golf', 'gon', 'gone', 'good', 'gorgeous', 'gossip', 'got', 'grace', 'grand', 'gravel', 'great', 'grin', 'grocer', 'group', 'grownup', 'gud', 'guess', 'guidance', 'guide', 'gut', 'guy', 'gym', 'hair', 'half', 'ham', 'hand', 'handed', 'handle', 'handset', 'hanging', 'happen', 'happiest', 'happily', 'happiness', 'happy', 'hard', 'hat', 'hate', 'havent', 'he', 'head', 'healthy', 'heap', 'hear', 'heart', 'heat', 'heaven', 'heavily', 'hell', 'hello', 'help', 'helping', 'henry', 'hey', 'hi', 'hide', 'hill', 'history', 'hit', 'ho', 'hockey', 'hold', 'holder', 'holding', 'holiday', 'holla', 'holy', 'home', 'homeowner', 'honey', 'honeybee', 'hooch', 'hope', 'hopefully', 'horny', 'horrible', 'hospital', 'hostel', 'hot', 'hotel', 'hour', 'house', 'housewife', 'huge', 'huh', 'humanity', 'hungry', 'hurry', 'hurt', 'husband', 'ice', 'id', 'idea', 'identification', 'identifier', 'idiot', 'ignore', 'ill', 'illness', 'imagine', 'implication', 'important', 'impossible', 'improve', 'inch', 'include', 'inclusive', 'inconvenience', 'inconvenient', 'incorrect', 'increase', 'incredible', 'increment', 'indeed', 'indicate', 'infection', 'influx', 'inform', 'information', 'innocent', 'inside', 'instantly', 'instead', 'instruction', 'interested', 'interesting', 'invader', 'inviting', 'irritation', 'island', 'issue', 'jacket', 'jade', 'jam', 'jane', 'jay', 'jazz', 'jerk', 'jersey', 'jess', 'job', 'join', 'joke', 'joker', 'jolly', 'journey', 'joy', 'juicy', 'jumper', 'june', 'kappa', 'karaoke', 'keep', 'keeping', 'ken', 'kept', 'key', 'kick', 'kill', 'kind', 'king', 'kingdom', 'kiosk', 'kiss', 'kit', 'knee', 'knew', 'know', 'knowing', 'la', 'lab', 'lady', 'laid', 'lamp', 'land', 'landing', 'landline', 'lar', 'last', 'late', 'lately', 'later', 'latest', 'laugh', 'laughing', 'laundry', 'law', 'leading', 'learn', 'least', 'leave', 'leaving', 'lecturer', 'left', 'leg', 'legal', 'lei', 'lesson', 'let', 'letter', 'li', 'lie', 'life', 'lifetime', 'lift', 'light', 'like', 'limit', 'limiting', 'limping', 'line', 'link', 'lion', 'lip', 'list', 'listen', 'listening', 'lit', 'little', 'live', 'lived', 'liver', 'living', 'load', 'loan', 'local', 'location', 'lock', 'logging', 'login', 'loneliness', 'long', 'longer', 'look', 'looking', 'loosing', 'loss', 'lost', 'lot', 'loud', 'lounge', 'lovable', 'love', 'lovely', 'lover', 'loving', 'loyal', 'loyalty', 'luck', 'lunch', 'lush', 'luxury', 'machan', 'mad', 'madam', 'made', 'mail', 'mailed', 'maintain', 'make', 'making', 'malaria', 'mall', 'man', 'manage', 'manageable', 'many', 'march', 'margin', 'mark', 'market', 'marry', 'marvel', 'massive', 'master', 'match', 'mate', 'math', 'mathematics', 'matrix', 'matter', 'maturity', 'maximize', 'may', 'maybe', 'meal', 'mean', 'meaning', 'meant', 'measure', 'meet', 'meeting', 'membership', 'memory', 'men', 'mentor', 'menu', 'message', 'messenger', 'met', 'mi', 'middle', 'midnight', 'might', 'mila', 'mile', 'mileage', 'min', 'mina', 'mind', 'mine', 'minimum', 'minor', 'minute', 'miracle', 'miserable', 'misfit', 'miss', 'missing', 'mite', 'mo', 'mob', 'mobile', 'mode', 'model', 'module', 'moment', 'mon', 'money', 'mono', 'month', 'mood', 'moon', 'moral', 'morning', 'moro', 'morphine', 'morrow', 'mother', 'motor', 'mountain', 'mouse', 'move', 'moving', 'mu', 'much', 'mufti', 'mum', 'mummy', 'music', 'must', 'na', 'naked', 'name', 'nap', 'nat', 'national', 'nature', 'naughty', 'navigate', 'near', 'nearly', 'necessarily', 'necessary', 'neck', 'need', 'negative', 'neither', 'nervous', 'network', 'never', 'new', 'news', 'next', 'ni', 'nice', 'night', 'nobody', 'noise', 'none', 'nonetheless', 'nope', 'normal', 'north', 'note', 'nothing', 'number', 'obviously', 'occupy', 'offense', 'offer', 'office', 'officer', 'official', 'oh', 'oil', 'old', 'one', 'onwards', 'open', 'opener', 'opening', 'operator', 'opportunity', 'opposite', 'opt', 'option', 'orange', 'orchard', 'order', 'original', 'otherwise', 'out', 'outside', 'over', 'oxygen', 'oyster', 'pa', 'pack', 'package', 'pain', 'painful', 'panic', 'panther', 'pap', 'paper', 'paragon', 'parent', 'park', 'parking', 'part', 'partner', 'party', 'password', 'past', 'patient', 'pause', 'pay', 'paying', 'peach', 'pee', 'pendent', 'pending', 'penny', 'people', 'per', 'percent', 'perfume', 'perhaps', 'period', 'person', 'personal', 'personality', 'pete', 'petrol', 'phone', 'phony', 'photo', 'phrase', 'pic', 'pick', 'picked', 'picture', 'pie', 'pig', 'pin', 'pink', 'piss', 'pity', 'pix', 'pizza', 'place', 'placement', 'plan', 'play', 'player', 'please', 'pleasure', 'plus', 'po', 'pod', 'point', 'police', 'polo', 'poly', 'polyphonic', 'poor', 'poorly', 'pop', 'port', 'portion', 'positive', 'possession', 'possible', 'post', 'posted', 'pound', 'pout', 'power', 'powerful', 'pray', 'praying', 'preferably', 'premium', 'prepare', 'prepayment', 'prescription', 'present', 'president', 'press', 'pretty', 'previous', 'previously', 'prey', 'price', 'pride', 'prince', 'princess', 'print', 'private', 'prize', 'prob', 'probably', 'problem', 'profit', 'program', 'project', 'promise', 'property', 'protect', 'proverb', 'pub', 'pull', 'punishment', 'punto', 'puppy', 'purchase', 'purpose', 'purse', 'pussy', 'put', 'quality', 'quarter', 'query', 'question', 'quick', 'quite', 'quiz', 'radio', 'rain', 'raise', 'raj', 'rally', 'ran', 'randomly', 'randy', 'rang', 'rat', 'rate', 'rather', 'reach', 'reaching', 'read', 'reading', 'ready', 'real', 'realize', 'really', 'reapply', 'rearrange', 'reason', 'reasonable', 'reassurance', 'reassuring', 'receipt', 'receive', 'received', 'recent', 'recently', 'record', 'recorder', 'recount', 'red', 'reduce', 'ree', 'ref', 'reference', 'regard', 'regarding', 'regret', 'relation', 'relative', 'relax', 'remain', 'remains', 'remember', 'remind', 'reminder', 'removal', 'remove', 'rencontre', 'renewal', 'rent', 'rental', 'repair', 'repeat', 'replace', 'reply', 'report', 'representative', 'request', 'require', 'reschedule', 'resent', 'resolved', 'resort', 'respectful', 'respond', 'response', 'responsibility', 'rest', 'result', 'resume', 'return', 'revealing', 'reverse', 'review', 'reward', 'rewarding', 'rich', 'ride', 'right', 'ring', 'rite', 'road', 'rocking', 'role', 'roller', 'romantic', 'room', 'rose', 'round', 'row', 'royal', 'rub', 'ruin', 'rule', 'rumbling', 'run', 'running', 'rush', 'rushing', 'sac', 'sad', 'safe', 'said', 'sake', 'salary', 'sale', 'salesman', 'salmon', 'salt', 'sam', 'sane', 'sar', 'sat', 'save', 'saved', 'saving', 'saw', 'say', 'saying', 'school', 'score', 'scraped', 'scream', 'screaming', 'search', 'sec', 'second', 'secret', 'section', 'secure', 'see', 'seed', 'seeing', 'seen', 'select', 'selected', 'selection', 'self', 'sell', 'selling', 'semester', 'sen', 'send', 'sending', 'sense', 'sensitive', 'sent', 'seriously', 'service', 'set', 'setting', 'seven', 'sex', 'sexy', 'shag', 'shah', 'shall', 'shame', 'share', 'shelf', 'shindig', 'ship', 'shirt', 'shocking', 'shoe', 'shop', 'shopping', 'shortage', 'shot', 'shouldnt', 'show', 'shower', 'shrub', 'shut', 'si', 'sib', 'side', 'sigh', 'sight', 'sign', 'silver', 'simple', 'simply', 'since', 'sing', 'single', 'sir', 'sister', 'sit', 'site', 'sitting', 'situation', 'six', 'skip', 'slacking', 'slave', 'sleep', 'slept', 'slide', 'slightly', 'slow', 'slowly', 'small', 'smaller', 'smart', 'smile', 'smiling', 'snow', 'snuggle', 'social', 'sofa', 'sol', 'somebody', 'someone', 'something', 'sometime', 'somewhere', 'song', 'soon', 'sooner', 'sorrow', 'sorry', 'sort', 'sory', 'sound', 'source', 'south', 'space', 'sparkling', 'speak', 'special', 'specially', 'specific', 'speeding', 'spend', 'spending', 'spent', 'spice', 'spider', 'spile', 'spiritual', 'splash', 'splat', 'split', 'spoiled', 'spoken', 'spook', 'sport', 'spree', 'st', 'stability', 'stage', 'stand', 'standard', 'star', 'starer', 'staring', 'start', 'starting', 'statement', 'station', 'stay', 'stayed', 'step', 'sticky', 'still', 'stink', 'stolen', 'stomach', 'stomp', 'stop', 'stopped', 'store', 'storming', 'story', 'strange', 'street', 'stress', 'stressful', 'stretch', 'strike', 'stuck', 'student', 'study', 'stuff', 'stuffing', 'stupid', 'style', 'stylish', 'sub', 'subscription', 'subsequent', 'successful', 'suck', 'sudden', 'suffering', 'sugar', 'suggestion', 'suite', 'sum', 'summer', 'sun', 'sunny', 'sunshine', 'sup', 'super', 'support', 'suppose', 'supposed', 'sure', 'surely', 'surly', 'surprise', 'surrender', 'swan', 'swashbuckling', 'swat', 'sweet', 'swimming', 'swing', 'switch', 'swoop', 'symptom', 'syrup', 'system', 'table', 'take', 'takin', 'taking', 'talk', 'talking', 'tantrum', 'tap', 'tariff', 'tat', 'tea', 'teach', 'team', 'tear', 'tease', 'teeth', 'tell', 'telling', 'temp', 'temple', 'ten', 'tenant', 'tension', 'term', 'terrific', 'terror', 'test', 'text', 'th', 'thank', 'thanks', 'thanksgiving', 'thats', 'theme', 'theory', 'there', 'theyre', 'thing', 'think', 'thinking', 'tho', 'thou', 'though', 'thought', 'thousand', 'threw', 'thy', 'ti', 'tick', 'ticket', 'tight', 'til', 'till', 'time', 'timing', 'tip', 'tired', 'today', 'tog', 'together', 'toilet', 'told', 'tomorrow', 'tone', 'tonight', 'tonite', 'took', 'top', 'topic', 'torch', 'torture', 'tot', 'total', 'totally', 'touch', 'tough', 'tour', 'towards', 'town', 'track', 'traffic', 'train', 'trained', 'training', 'tranquility', 'travel', 'travelled', 'treacle', 'treadmill', 'treasure', 'treat', 'tried', 'trip', 'trouble', 'truck', 'true', 'truly', 'trust', 'truth', 'try', 'trying', 'tsunami', 'turkey', 'turn', 'twelve', 'two', 'type', 'ugh', 'ull', 'ultimate', 'unable', 'uncle', 'uncut', 'understand', 'understanding', 'understood', 'unintentional', 'unintentionally', 'unique', 'unit', 'united', 'university', 'unless', 'unlike', 'unlimited', 'unredeemed', 'update', 'upgrade', 'upon', 'ur', 'ure', 'urgent', 'us', 'use', 'used', 'user', 'usual', 'valentine', 'valid', 'valuable', 'valued', 'various', 'vary', 'verify', 'version', 'via', 'vibrant', 'video', 'village', 'violence', 'virgin', 'visit', 'voice', 'vomit', 'vomiting', 'vote', 'voucher', 'wa', 'wait', 'waiting', 'wake', 'walk', 'walking', 'wallpaper', 'wan', 'want', 'wap', 'warner', 'warning', 'warranty', 'wasnt', 'waste', 'wasted', 'wat', 'watch', 'watched', 'watching', 'water', 'way', 'weak', 'weapon', 'wear', 'weather', 'wed', 'wedding', 'weed', 'week', 'weekend', 'weekly', 'weird', 'welcome', 'well', 'wen', 'went', 'whatever', 'whats', 'wheat', 'whenever', 'wherever', 'whether', 'whisper', 'white', 'who', 'whole', 'wicket', 'wid', 'win', 'window', 'wine', 'wing', 'winner', 'winning', 'wish', 'wishing', 'wit', 'within', 'without', 'woke', 'woman', 'wonder', 'wonderful', 'wondering', 'wont', 'word', 'work', 'working', 'world', 'worm', 'worried', 'worry', 'worse', 'worst', 'worth', 'wot', 'would', 'wouldnt', 'wound', 'wow', 'write', 'wrong', 'wrote', 'wun', 'ya', 'yah', 'yahoo', 'yan', 'yar', 'yard', 'yeah', 'year', 'yep', 'yer', 'yes', 'yest', 'yesterday', 'yet', 'ym', 'yo', 'yoga', 'yor', 'youd', 'young', 'younger', 'youve', 'yr', 'yummy', 'zebra', 'zed', 'zero']\n",
            "[[0 0 0 ... 0 0 0]\n",
            " [0 0 0 ... 0 0 0]\n",
            " [0 0 0 ... 0 0 0]\n",
            " ...\n",
            " [0 0 0 ... 0 0 0]\n",
            " [0 0 0 ... 0 0 0]\n",
            " [0 0 0 ... 0 0 0]]\n"
          ],
          "name": "stdout"
        }
      ]
    },
    {
      "cell_type": "code",
      "metadata": {
        "id": "5L23jPVzhqDj"
      },
      "source": [
        "from sklearn.model_selection import train_test_split\n",
        "\n",
        "X_train,X_test,y_train,y_test = train_test_split(wordVectorized.toarray(), mailLabel, test_size=0.2)"
      ],
      "execution_count": null,
      "outputs": []
    },
    {
      "cell_type": "markdown",
      "metadata": {
        "id": "3xigLwpjmA7L"
      },
      "source": [
        "## **Sans PCA**"
      ]
    },
    {
      "cell_type": "code",
      "metadata": {
        "id": "3wew3TLUkjzw"
      },
      "source": [
        "from sklearn.ensemble import RandomForestClassifier\n",
        "\n",
        "#importation du GridSearch pour trouver les meilleurs paramètres\n",
        "from sklearn.model_selection import GridSearchCV\n",
        "\n",
        "#importation des packages pour déterminer le score des modèles\n",
        "from sklearn.metrics import confusion_matrix\n",
        "from sklearn.metrics import classification_report\n",
        "\n",
        "RF = RandomForestClassifier()\n",
        "param = {'n_estimators': [10, 150, 300],\n",
        "            'max_depth': [30, 60, 90, None]\n",
        "            }\n",
        "\n",
        "gs = GridSearchCV(RF, param, cv=5, n_jobs=-1) #n_jobs=-1 pour qu'il effectue l'apprentissage en parallèlle\n",
        "gs_fit = gs.fit(wordVectorized, mailLabel)\n",
        "#print(gs.best_estimator_)\n",
        "\n",
        "rf = gs.best_estimator_\n",
        "rf.fit(X_train, y_train)\n",
        "pred = rf.predict(X_test)"
      ],
      "execution_count": null,
      "outputs": []
    },
    {
      "cell_type": "code",
      "metadata": {
        "id": "wTxKE5a2q4Er",
        "colab": {
          "base_uri": "https://localhost:8080/"
        },
        "outputId": "61b60d37-9b62-496f-ed6a-9e912a0f91fa"
      },
      "source": [
        "print('score : ', rf.score(X_test, y_test))\n",
        "tn, fp, fn, tp = confusion_matrix(y_test, pred).ravel()\n",
        "print('True Positives: ', tp)\n",
        "print('False Positives: ', fp)\n",
        "print('True Negatives: ', tn)\n",
        "print('False Negatives: ', fn)\n",
        "print(classification_report(y_test, pred))"
      ],
      "execution_count": null,
      "outputs": [
        {
          "output_type": "stream",
          "text": [
            "score :  0.9493087557603687\n",
            "True Positives:  27\n",
            "False Positives:  1\n",
            "True Negatives:  179\n",
            "False Negatives:  10\n",
            "              precision    recall  f1-score   support\n",
            "\n",
            "           0       0.95      0.99      0.97       180\n",
            "           1       0.96      0.73      0.83        37\n",
            "\n",
            "    accuracy                           0.95       217\n",
            "   macro avg       0.96      0.86      0.90       217\n",
            "weighted avg       0.95      0.95      0.95       217\n",
            "\n"
          ],
          "name": "stdout"
        }
      ]
    },
    {
      "cell_type": "code",
      "metadata": {
        "id": "uM-WQy3uqmZy"
      },
      "source": [
        ""
      ],
      "execution_count": null,
      "outputs": []
    },
    {
      "cell_type": "markdown",
      "metadata": {
        "id": "zgiMr0tMl8yd"
      },
      "source": [
        "## **Avec PCA**"
      ]
    },
    {
      "cell_type": "code",
      "metadata": {
        "id": "0eaRpULGl-yZ"
      },
      "source": [
        "from sklearn.decomposition import PCA\n",
        "\n",
        "#Make an instance of the model\n",
        "pca = PCA(.95)"
      ],
      "execution_count": null,
      "outputs": []
    },
    {
      "cell_type": "code",
      "metadata": {
        "id": "uXQds28emIYj",
        "colab": {
          "base_uri": "https://localhost:8080/"
        },
        "outputId": "77e699d6-c792-44b1-a670-3e89bbefa53e"
      },
      "source": [
        "pca.fit(X_train)"
      ],
      "execution_count": null,
      "outputs": [
        {
          "output_type": "execute_result",
          "data": {
            "text/plain": [
              "PCA(copy=True, iterated_power='auto', n_components=0.95, random_state=None,\n",
              "    svd_solver='auto', tol=0.0, whiten=False)"
            ]
          },
          "metadata": {
            "tags": []
          },
          "execution_count": 110
        }
      ]
    },
    {
      "cell_type": "code",
      "metadata": {
        "id": "8cOSLGgFmK2e"
      },
      "source": [
        "X_train_PCA = pca.transform(X_train)\n",
        "X_test_PCA = pca.transform(X_test)\n",
        "y_train_PCA = y_train\n",
        "y_test_PCA = y_test"
      ],
      "execution_count": null,
      "outputs": []
    },
    {
      "cell_type": "code",
      "metadata": {
        "id": "tjg1kpSUmSxa",
        "colab": {
          "base_uri": "https://localhost:8080/"
        },
        "outputId": "2638a0ac-4f2b-4312-be4d-feff8007d1f1"
      },
      "source": [
        "from sklearn.ensemble import RandomForestClassifier\n",
        "\n",
        "#importation du GridSearch pour trouver les meilleurs paramètres\n",
        "from sklearn.model_selection import GridSearchCV\n",
        "\n",
        "#importation des packages pour déterminer le score des modèles\n",
        "from sklearn.metrics import confusion_matrix\n",
        "from sklearn.metrics import classification_report\n",
        "\n",
        "RF = RandomForestClassifier()\n",
        "param = {'n_estimators': [10, 150, 300],\n",
        "            'max_depth': [30, 60, 90, None]\n",
        "            }\n",
        "\n",
        "gs = GridSearchCV(RF, param, cv=5, n_jobs=-1) #n_jobs=-1 pour qu'il effectue l'apprentissage en parallèlle\n",
        "gs_fit = gs.fit(wordVectorized, mailLabel)\n",
        "#print(gs.best_estimator_)\n",
        "\n",
        "rf_PCA = gs.best_estimator_\n",
        "rf_PCA.fit(X_train_PCA, y_train_PCA)\n",
        "pred_PCA = rf_PCA.predict(X_test_PCA)\n",
        "\n",
        "print('score : ', rf_PCA.score(X_test_PCA, y_test_PCA))\n",
        "tn, fp, fn, tp = confusion_matrix(y_test_PCA, pred_PCA).ravel()\n",
        "print('True Positives: ', tp)\n",
        "print('False Positives: ', fp)\n",
        "print('True Negatives: ', tn)\n",
        "print('False Negatives: ', fn)\n",
        "print(classification_report(y_test_PCA, pred_PCA))"
      ],
      "execution_count": null,
      "outputs": [
        {
          "output_type": "stream",
          "text": [
            "score :  0.9216589861751152\n",
            "True Positives:  23\n",
            "False Positives:  3\n",
            "True Negatives:  177\n",
            "False Negatives:  14\n",
            "              precision    recall  f1-score   support\n",
            "\n",
            "           0       0.93      0.98      0.95       180\n",
            "           1       0.88      0.62      0.73        37\n",
            "\n",
            "    accuracy                           0.92       217\n",
            "   macro avg       0.91      0.80      0.84       217\n",
            "weighted avg       0.92      0.92      0.92       217\n",
            "\n"
          ],
          "name": "stdout"
        }
      ]
    },
    {
      "cell_type": "markdown",
      "metadata": {
        "id": "NBgW1Lau5cip"
      },
      "source": [
        "## **PCA Comparison**"
      ]
    },
    {
      "cell_type": "code",
      "metadata": {
        "id": "U6QOquk-oq-u",
        "colab": {
          "base_uri": "https://localhost:8080/",
          "height": 583
        },
        "outputId": "8c1ac922-9427-4bcb-e2a9-02bec675b755"
      },
      "source": [
        "metrics.plot_roc_curve(rf, X_test, y_test, label='ROC') \n",
        "plt.plot(np.linspace(0, 1, 2), linestyle='--', label='AOC')\n",
        "plt.legend(fontsize=12)\n",
        "plt.ylabel('TPR', fontsize=16)\n",
        "plt.xlabel('FPR', fontsize=16)\n",
        "#plt.xlim((0, 0.5))\n",
        "plt.ylim((0, 1.1))\n",
        "plt.title(\"AUC - ROC curve without PCA\")\n",
        "plt.show()\n",
        "\n",
        "metrics.plot_roc_curve(rf_PCA, X_test_PCA, y_test_PCA, label='ROC') \n",
        "plt.plot(np.linspace(0, 1, 2), linestyle='--', label='AOC')\n",
        "plt.legend(fontsize=12)\n",
        "plt.ylabel('TPR', fontsize=16)\n",
        "plt.xlabel('FPR', fontsize=16)\n",
        "#plt.xlim((0, 0.5))\n",
        "plt.ylim((0, 1.1))\n",
        "plt.title(\"AUC - ROC curve with PCA\")\n",
        "plt.show()\n"
      ],
      "execution_count": null,
      "outputs": [
        {
          "output_type": "display_data",
          "data": {
            "image/png": "[encoded data removed]",
            "text/plain": [
              "<Figure size 432x288 with 1 Axes>"
            ]
          },
          "metadata": {
            "tags": [],
            "needs_background": "light"
          }
        },
        {
          "output_type": "display_data",
          "data": {
            "image/png": "[encoded data removed]",
            "text/plain": [
              "<Figure size 432x288 with 1 Axes>"
            ]
          },
          "metadata": {
            "tags": [],
            "needs_background": "light"
          }
        }
      ]
    }
  ]
}